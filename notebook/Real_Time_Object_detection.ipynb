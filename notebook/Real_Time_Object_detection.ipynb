{
 "cells": [
  {
   "cell_type": "raw",
   "id": "7712860e-170d-4c09-bd34-10073037d35e",
   "metadata": {},
   "source": [
    "📦 Step 1: Import Required Packages\n",
    "✅ Explanation:\n",
    "    cv2 – OpenCV's main module\n",
    "    imutils – simplifies OpenCV functions like resizing\n",
    "    VideoStream – for capturing video via webcam in a separate thread\n",
    "    FPS – to measure frames-per-second\n",
    "    numpy – for handling array operations"
   ]
  },
  {
   "cell_type": "code",
   "execution_count": 1,
   "id": "ff4603ff-6f86-4a85-816b-ed286937066c",
   "metadata": {},
   "outputs": [],
   "source": [
    "# import the necessary packages\n",
    "from imutils.video import VideoStream\n",
    "from imutils.video import FPS\n",
    "import numpy as np\n",
    "import argparse\n",
    "import imutils\n",
    "import time\n",
    "import cv2\n"
   ]
  },
  {
   "cell_type": "code",
   "execution_count": 2,
   "id": "1b1ce999-fbff-4068-8572-84336cd2abb9",
   "metadata": {},
   "outputs": [
    {
     "data": {
      "text/plain": [
       "'ap = argparse.ArgumentParser()\\nap.add_argument(\"-p\", \"--prototxt\", required=True,\\n\\thelp=\"path to Caffe \\'deploy\\' prototxt file\")\\nap.add_argument(\"-m\", \"--model\", required=True,\\n\\thelp=\"path to Caffe pre-trained model\")\\nap.add_argument(\"-c\", \"--confidence\", type=float, default=0.2,\\n\\thelp=\"minimum probability to filter weak detections\")\\nargs = vars(ap.parse_args())'"
      ]
     },
     "execution_count": 2,
     "metadata": {},
     "output_type": "execute_result"
    }
   ],
   "source": [
    "# construct the argument parse and parse the arguments\n",
    "'''ap = argparse.ArgumentParser()\n",
    "ap.add_argument(\"-p\", \"--prototxt\", required=True,\n",
    "\thelp=\"path to Caffe 'deploy' prototxt file\")\n",
    "ap.add_argument(\"-m\", \"--model\", required=True,\n",
    "\thelp=\"path to Caffe pre-trained model\")\n",
    "ap.add_argument(\"-c\", \"--confidence\", type=float, default=0.2,\n",
    "\thelp=\"minimum probability to filter weak detections\")\n",
    "args = vars(ap.parse_args())'''"
   ]
  },
  {
   "cell_type": "markdown",
   "id": "b6587d5b-8627-4dea-8324-d8663c5cd879",
   "metadata": {},
   "source": [
    "🏷️ Step 2: Define Class Labels and Generate Colors"
   ]
  },
  {
   "cell_type": "code",
   "execution_count": 3,
   "id": "550c2b3c-828c-4688-963d-d4e8cb84d739",
   "metadata": {},
   "outputs": [],
   "source": [
    "# initialize the list of class labels MobileNet SSD was trained to\n",
    "# detect, then generate a set of bounding box colors for each class\n",
    "CLASSES = [\"background\", \"aeroplane\", \"bicycle\", \"bird\", \"boat\",\n",
    "\t\"bottle\", \"bus\", \"car\", \"cat\", \"chair\", \"cow\", \"diningtable\",\n",
    "\t\"dog\", \"horse\", \"motorbike\", \"person\", \"pottedplant\", \"sheep\",\n",
    "\t\"sofa\", \"train\", \"tvmonitor\"]\n",
    "COLORS = np.random.uniform(0, 255, size=(len(CLASSES), 3))"
   ]
  },
  {
   "cell_type": "raw",
   "id": "2c7320d2-6189-431e-a2e1-6f874f71c014",
   "metadata": {},
   "source": [
    "🤖 Step 3: Load the Pretrained Model\n",
    "\n",
    "✅ Explanation:\n",
    "    readNetFromCaffe(prototxt, model) loads:\n",
    "    .prototxt.txt: model architecture\n",
    "\n",
    "🔽 Download Pretrained Files (Manual if GitHub is down)\n",
    "If URLs are failing, you can manually download:\n",
    "\n",
    " 1.Model prototxt\n",
    "   MobileNetSSD_deploy.prototxt.txt\n",
    "   ➤ Right-click > Save As > MobileNetSSD_deploy.prototxt.txt\n",
    "\n",
    " 2.Model weights\n",
    "   MobileNetSSD_deploy.caffemodel\n",
    "   ➤ Right-click > Save As > MobileNetSSD_deploy.caffemodel\n",
    "\n",
    "Place both files in the same folder as your Jupyter Notebook."
   ]
  },
  {
   "cell_type": "code",
   "execution_count": 4,
   "id": "30f46cb0-c1bd-4f11-99b7-e06d3ba31f4a",
   "metadata": {},
   "outputs": [
    {
     "name": "stdout",
     "output_type": "stream",
     "text": [
      "[INFO] loading model...\n"
     ]
    }
   ],
   "source": [
    "# load our serialized model from disk\n",
    "print(\"[INFO] loading model...\")\n",
    "net = cv2.dnn.readNetFromCaffe('MobileNetSSD_deploy.prototxt.txt', 'MobileNetSSD_deploy.caffemodel')"
   ]
  },
  {
   "cell_type": "markdown",
   "id": "8acbb4d7-c979-4c51-abb3-5f080ec2c143",
   "metadata": {},
   "source": [
    "🎥 Step 4: Initialize Video Stream and FPS Counter"
   ]
  },
  {
   "cell_type": "code",
   "execution_count": 5,
   "id": "59dc1d3f-d41c-45ab-a66c-c14edb1dc751",
   "metadata": {},
   "outputs": [
    {
     "name": "stdout",
     "output_type": "stream",
     "text": [
      "[INFO] starting video stream...\n"
     ]
    }
   ],
   "source": [
    "# initialize the video stream, allow the cammera sensor to warmup,\n",
    "# and initialize the FPS counter\n",
    "print(\"[INFO] starting video stream...\")\n",
    "vs = VideoStream(src=0).start()\n",
    "time.sleep(2.0)\n",
    "fps = FPS().start()"
   ]
  },
  {
   "cell_type": "raw",
   "id": "d4daa3bc-5de0-4fff-98e5-f962b6414d2e",
   "metadata": {},
   "source": [
    "🔁 Step 5: Process Frames in Real-Time\n",
    "✅ Blob Explanation:\n",
    "  Blob = preprocessed image fed to the model\n",
    "  (300, 300) – input size expected by MobileNet SSD\n",
    "  0.007843 = 1/127.5 to scale pixel values\n",
    "  127.5 = mean subtraction value for centering\n",
    "📦 Step 6: Loop Over Detections and Draw Bounding Boxes\n",
    "🖼️ Step 7: Display Frame and Handle Exit"
   ]
  },
  {
   "cell_type": "code",
   "execution_count": null,
   "id": "1a601620-19ee-4a41-bb43-940a2725105b",
   "metadata": {},
   "outputs": [],
   "source": [
    "# loop over the frames from the video stream\n",
    "while True:\n",
    "\t# grab the frame from the threaded video stream and resize it\n",
    "\t# to have a maximum width of 400 pixels\n",
    "\tframe = vs.read()\n",
    "\tframe = imutils.resize(frame, width=400)\n",
    "\n",
    "\t# grab the frame dimensions and convert it to a blob\n",
    "\t(h, w) = frame.shape[:2]\n",
    "\tblob = cv2.dnn.blobFromImage(cv2.resize(frame, (300, 300)),\n",
    "\t\t0.007843, (300, 300), 127.5)\n",
    "\n",
    "\t# pass the blob through the network and obtain the detections and\n",
    "\t# predictions\n",
    "\tnet.setInput(blob)\n",
    "\tdetections = net.forward()\n",
    "    #Step 6\n",
    "    # loop over the detections\n",
    "\tfor i in np.arange(0, detections.shape[2]):\n",
    "\t\t# extract the confidence (i.e., probability) associated with\n",
    "\t\t# the prediction\n",
    "\t\tconfidence = detections[0, 0, i, 2]\n",
    "\n",
    "\t\t# filter out weak detections by ensuring the `confidence` is\n",
    "\t\t# greater than the minimum confidence\n",
    "\t\tif confidence > 0.2:\n",
    "\t\t\t# extract the index of the class label from the\n",
    "\t\t\t# `detections`, then compute the (x, y)-coordinates of\n",
    "\t\t\t# the bounding box for the object\n",
    "\t\t\tidx = int(detections[0, 0, i, 1])\n",
    "\t\t\tbox = detections[0, 0, i, 3:7] * np.array([w, h, w, h])\n",
    "\t\t\t(startX, startY, endX, endY) = box.astype(\"int\")\n",
    "\n",
    "\t\t\t# draw the prediction on the frame\n",
    "\t\t\tlabel = \"{}: {:.2f}%\".format(CLASSES[idx],\n",
    "\t\t\t\tconfidence * 100)\n",
    "\t\t\tcv2.rectangle(frame, (startX, startY), (endX, endY),\n",
    "\t\t\t\tCOLORS[idx], 2)\n",
    "\t\t\ty = startY - 15 if startY - 15 > 15 else startY + 15\n",
    "\t\t\tcv2.putText(frame, label, (startX, y),\n",
    "\t\t\t\tcv2.FONT_HERSHEY_SIMPLEX, 0.5, COLORS[idx], 2)\n",
    "    # Step 7\n",
    "    # show the output frame\n",
    "\tcv2.imshow(\"Frame\", frame)\n",
    "\tkey = cv2.waitKey(1) & 0xFF\n",
    "\n",
    "\t# if the `q` key was pressed, break from the loop\n",
    "\tif key == ord(\"q\"):\n",
    "\t\tbreak\n",
    "\n",
    "\t# update the FPS counter\n",
    "\tfps.update()\n",
    "\n",
    "\t"
   ]
  },
  {
   "cell_type": "markdown",
   "id": "d1f9b3d1-08ef-42b9-9cfe-26ad485e0621",
   "metadata": {},
   "source": [
    "🧹 Step 8: Cleanup and FPS Stats"
   ]
  },
  {
   "cell_type": "code",
   "execution_count": null,
   "id": "2e2f629c-6982-4b3b-8349-9e128db4e80f",
   "metadata": {},
   "outputs": [],
   "source": [
    "# stop the timer and display FPS information\n",
    "fps.stop()\n",
    "print(\"[INFO] elapsed time: {:.2f}\".format(fps.elapsed()))\n",
    "print(\"[INFO] approx. FPS: {:.2f}\".format(fps.fps()))\n",
    "\n",
    "# do a bit of cleanup\n",
    "cv2.destroyAllWindows()\n",
    "vs.stop()"
   ]
  },
  {
   "cell_type": "raw",
   "id": "2c53ff58-6515-496b-a55c-443747494ab4",
   "metadata": {},
   "source": [
    "✅ Summary of Output\n",
    "This script:\n",
    "  Starts your webcam\n",
    "  Detects and labels common objects in real-time using MobileNet SSD\n",
    "  Displays bounding boxes with class names\n",
    "  Stops when you press q\n",
    "  Displays FPS performance"
   ]
  }
 ],
 "metadata": {
  "kernelspec": {
   "display_name": "Real_time_object_detection",
   "language": "python",
   "name": "real_time_object_detection"
  },
  "language_info": {
   "codemirror_mode": {
    "name": "ipython",
    "version": 3
   },
   "file_extension": ".py",
   "mimetype": "text/x-python",
   "name": "python",
   "nbconvert_exporter": "python",
   "pygments_lexer": "ipython3",
   "version": "3.12.9"
  }
 },
 "nbformat": 4,
 "nbformat_minor": 5
}
